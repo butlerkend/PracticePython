{
 "cells": [
  {
   "cell_type": "markdown",
   "metadata": {},
   "source": [
    "# Story\n",
    "\n",
    "This will be the first practice file. Shortly after creating this, it has turned into a story that will unfold based on user inputs. This may be quite a challenge."
   ]
  },
  {
   "cell_type": "code",
   "execution_count": 8,
   "metadata": {},
   "outputs": [
    {
     "name": "stdout",
     "output_type": "stream",
     "text": [
      "What is your name?: Jonathan Stupid Head\n",
      "Your name will be Jonathan Stupid Head from here on out.\n",
      "What is your gender? (man, woman, or enby): woman\n",
      "From here on out, your pronouns will be  she / her .\n",
      "Is that okay?(yes/no): no\n",
      "What is your gender? (man, woman, or enby): man\n",
      "From here on out, your pronouns will be  he / him .\n",
      "Is that okay?(yes/no): no\n",
      "What is your gender? (man, woman, or enby): enby\n",
      "From here on out, your pronouns will be  they / them .\n",
      "Is that okay?(yes/no): yes\n"
     ]
    }
   ],
   "source": [
    "#This code will be used to navigate a story\n",
    "\n",
    "name = str(input(\"What is your name?: \"))\n",
    "print(\"Your name will be\", name,\"from here on out.\")\n",
    "\n",
    "gender = \"null\"\n",
    "\n",
    "while gender == \"null\":\n",
    "    \n",
    "    while gender != \"man\" and gender!=\"woman\" and gender !=\"enby\":\n",
    "        gender = str(input(\"What is your gender? (man, woman, or enby): \"))\n",
    "    \n",
    "    if gender == \"man\":\n",
    "        pro1 = \"he\"\n",
    "        pro2 = \"him\"\n",
    "    elif gender == \"woman\":\n",
    "        pro1 = \"she\"\n",
    "        pro2 = \"her\"\n",
    "    elif gender == \"enby\":\n",
    "        pro1 = \"they\"\n",
    "        pro2 = \"them\"\n",
    "        \n",
    "    answer1 = \"null\"\n",
    "    \n",
    "    while answer1 != \"yes\" and answer1 != \"no\":\n",
    "        print(\"From here on out, your pronouns will be \",pro1,\"/\",pro2,\".\")\n",
    "        answer1 = str(input(\"Is that okay?(yes/no): \"))\n",
    "    \n",
    "    if answer1 == \"no\":\n",
    "        gender = \"null\"\n",
    "        \n",
    "origin = \"null\"\n",
    "while origin != \"nmt\" and origin != \"fw\" and origin != \"ndp\"      \n",
    "    origin = str(input(\"You were just banished from your tribe. Were you from the northern mountain tribe (input:nmt), \\\n",
    "    the fire worshippers (input: fw) or the nomadic desert peoples (input: ndp)?: \"))\n",
    "\n"
   ]
  },
  {
   "cell_type": "code",
   "execution_count": null,
   "metadata": {},
   "outputs": [],
   "source": []
  }
 ],
 "metadata": {
  "kernelspec": {
   "display_name": "Python 3",
   "language": "python",
   "name": "python3"
  },
  "language_info": {
   "codemirror_mode": {
    "name": "ipython",
    "version": 3
   },
   "file_extension": ".py",
   "mimetype": "text/x-python",
   "name": "python",
   "nbconvert_exporter": "python",
   "pygments_lexer": "ipython3",
   "version": "3.7.4"
  }
 },
 "nbformat": 4,
 "nbformat_minor": 2
}
