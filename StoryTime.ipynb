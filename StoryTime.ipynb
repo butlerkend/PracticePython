{
 "cells": [
  {
   "cell_type": "markdown",
   "metadata": {},
   "source": [
    "# The Lost Child\n",
    "\n",
    "This will be the first practice file. Shortly after creating this, it has turned into a story that will unfold based on user inputs. This may be quite a challenge."
   ]
  },
  {
   "cell_type": "code",
   "execution_count": 17,
   "metadata": {},
   "outputs": [
    {
     "name": "stdout",
     "output_type": "stream",
     "text": [
      "What is your name?: Kendall\n",
      "Your name will be Kendall from here on out.\n",
      "\n",
      "What is your gender? (man, woman, or enby): enby\n",
      "From here on out, your pronouns will be  they / them .\n",
      "Is that okay?(yes/no): yes\n",
      "\n",
      "You were just banished from your tribe. Were you from the northern mountain tribe (input:nmt), the fire worshippers (input: fw) or the nomadic desert peoples (input: ndp)?: nmt\n",
      "\n",
      "You will now be a person named Kendall from the  Northern Mountain Tribe . You have discgraced your tribe and will set out into the larger world. Your choices will define you as you decide how your fate plays out. Your actions will also affect how the characters around you percieve you and interact. Good luck.\n"
     ]
    }
   ],
   "source": [
    "#This code will be used to navigate a story\n",
    "\n",
    "##This is the opening phase of the story\n",
    "##Opening notes will let me, the creator navigate what part of the story we are in\n",
    "\n",
    "\n",
    "#user input for their\n",
    "\n",
    "name = str(input(\"What is your name?: \"))\n",
    "print(\"Your name will be\", name,\"from here on out.\")\n",
    "print()\n",
    "\n",
    "\n",
    "#user input for gender/pronouns\n",
    "\n",
    "gender = \"null\"\n",
    "\n",
    "while gender == \"null\":\n",
    "    \n",
    "    while gender != \"man\" and gender!=\"woman\" and gender !=\"enby\":\n",
    "        gender = str(input(\"What is your gender? (man, woman, or enby): \"))\n",
    "    \n",
    "    if gender == \"man\":\n",
    "        pro1 = \"he\"\n",
    "        pro2 = \"him\"\n",
    "    elif gender == \"woman\":\n",
    "        pro1 = \"she\"\n",
    "        pro2 = \"her\"\n",
    "    elif gender == \"enby\":\n",
    "        pro1 = \"they\"\n",
    "        pro2 = \"them\"\n",
    "        \n",
    "    answer1 = \"null\"\n",
    "    \n",
    "    while answer1 != \"yes\" and answer1 != \"no\":\n",
    "        print(\"From here on out, your pronouns will be \",pro1,\"/\",pro2,\".\")\n",
    "        answer1 = str(input(\"Is that okay?(yes/no): \"))\n",
    "    \n",
    "    if answer1 == \"no\":\n",
    "        gender = \"null\"\n",
    "        \n",
    "print()\n",
    "\n",
    "#now the user will decide what faction they were born into and subsequently banished from.\n",
    "\n",
    "origin = \"null\"\n",
    "while origin != \"nmt\" and origin != \"fw\" and origin != \"ndp\":     \n",
    "    origin = str(input(\"You were just banished from your tribe. Were you from the northern mountain tribe (input:nmt), \\\n",
    "the fire worshippers (input: fw) or the nomadic desert peoples (input: ndp)?: \"))\n",
    "    \n",
    "home = \"null\"\n",
    "\n",
    "if origin == \"nmt\":\n",
    "    home = \"Northern Mountain Tribe\"\n",
    "if origin == \"fw\":\n",
    "    home = \"The Catacombs of Fire\"\n",
    "if origin == \"ndp\":\n",
    "    home = \"Tribe of the Nomadic Desert Peoples\"\n",
    "\n",
    "print()\n",
    "\n",
    "if gender == \"enby\":\n",
    "    print(\"You will now be a person named\", name, \"from the \", home,\". You have discgraced your tribe and will set out into the larger world. \\\n",
    "Your choices will define you as you decide how your fate plays out. Your actions will also affect how the characters around \\\n",
    "you percieve you and interact. Good luck!\")\n",
    "else:\n",
    "    print(\"You will now be a\", gender, \"named\", name, \"from the \", home,\". You have discgraced your tribe and will set out into the larger world. \\\n",
    "Your choices will define you as you decide how your fate plays out. Your actions will also affect how the characters around \\\n",
    "you percieve you and interact. Good luck!\")\n",
    "    "
   ]
  },
  {
   "cell_type": "code",
   "execution_count": null,
   "metadata": {},
   "outputs": [],
   "source": [
    "##This is the first story block for players from the northern mountain tribe. \n",
    "##We will first set the scene for the world, then for the tribe in particular\n",
    "##After that, we will describe where the main character is right now, and get \n",
    "##to some of the first decisions the player will make in this game. \n",
    "\n",
    "#reminder that 'name' = the player's name, 'pro1' = the he/she/they pronoun, and 'pro2' = the him/her/them pronoun.\n",
    "\n",
    "if origin == \"nmt\":\n",
    "    #start here\n",
    "    print(\"this is the begin\")\n"
   ]
  },
  {
   "cell_type": "code",
   "execution_count": null,
   "metadata": {},
   "outputs": [],
   "source": [
    "##This is the first story block for players from the catacombs of fire. \n",
    "##We will first set the scene for the world, then for the tribe in particular\n",
    "##After that, we will describe where the main character is right now, and get \n",
    "##to some of the first decisions the player will make in this game. \n",
    "\n",
    "#reminder that 'name' = the player's name, 'pro1' = the he/she/they pronoun, and 'pro2' = the him/her/them pronoun.\n",
    "\n",
    "if origin == \"fw\":\n",
    "    #start here\n",
    "    pritn(\"this is the beginning of the story for fw\")"
   ]
  },
  {
   "cell_type": "code",
   "execution_count": null,
   "metadata": {},
   "outputs": [],
   "source": [
    "##This is the first story block for players from the nomadic desert peoples. \n",
    "##We will first set the scene for the world, then for the tribe in particular\n",
    "##After that, we will describe where the main character is right now, and get \n",
    "##to some of the first decisions the player will make in this game. \n",
    "\n",
    "#reminder that 'name' = the player's name, 'pro1' = the he/she/they pronoun, and 'pro2' = the him/her/them pronoun.\n",
    "\n",
    "if origin == \"ndp\"\n",
    "    #start here\n",
    "    print(\"this is the beginning of the story for ndp\")"
   ]
  }
 ],
 "metadata": {
  "kernelspec": {
   "display_name": "Python 3",
   "language": "python",
   "name": "python3"
  },
  "language_info": {
   "codemirror_mode": {
    "name": "ipython",
    "version": 3
   },
   "file_extension": ".py",
   "mimetype": "text/x-python",
   "name": "python",
   "nbconvert_exporter": "python",
   "pygments_lexer": "ipython3",
   "version": "3.7.4"
  }
 },
 "nbformat": 4,
 "nbformat_minor": 2
}
