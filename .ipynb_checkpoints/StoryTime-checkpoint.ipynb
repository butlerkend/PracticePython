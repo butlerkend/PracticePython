{
 "cells": [
  {
   "cell_type": "markdown",
   "metadata": {},
   "source": [
    "# Story\n",
    "\n",
    "This will be the first practice file. Shortly after creating this, it has turned into a story that will unfold based on user inputs. This may be quite a challenge."
   ]
  },
  {
   "cell_type": "code",
   "execution_count": 2,
   "metadata": {},
   "outputs": [
    {
     "name": "stdout",
     "output_type": "stream",
     "text": [
      "What is your name?: Kendall Jon Butler\n",
      "Your name will be Kendall Jon Butler from here on out.\n"
     ]
    }
   ],
   "source": [
    "#This code will be used to navigate a story\n",
    "\n",
    "name = str(input(\"What is your name?: \"))\n",
    "print(\"Your name will be\", name,\"from here on out.\")"
   ]
  },
  {
   "cell_type": "code",
   "execution_count": null,
   "metadata": {},
   "outputs": [],
   "source": []
  }
 ],
 "metadata": {
  "kernelspec": {
   "display_name": "Python 3",
   "language": "python",
   "name": "python3"
  },
  "language_info": {
   "codemirror_mode": {
    "name": "ipython",
    "version": 3
   },
   "file_extension": ".py",
   "mimetype": "text/x-python",
   "name": "python",
   "nbconvert_exporter": "python",
   "pygments_lexer": "ipython3",
   "version": "3.7.4"
  }
 },
 "nbformat": 4,
 "nbformat_minor": 2
}
